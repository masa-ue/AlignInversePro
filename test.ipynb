{
 "cells": [
  {
   "cell_type": "code",
   "execution_count": 5,
   "metadata": {},
   "outputs": [],
   "source": []
  },
  {
   "cell_type": "code",
   "execution_count": 1,
   "metadata": {},
   "outputs": [],
   "source": [
    "import numpy as np"
   ]
  },
  {
   "cell_type": "code",
   "execution_count": 15,
   "metadata": {},
   "outputs": [],
   "source": [
    "aaa = np.load(\"fmif/log/reward_original_stability_EA|run2_0325_0005.npz\")"
   ]
  },
  {
   "cell_type": "code",
   "execution_count": 12,
   "metadata": {},
   "outputs": [
    {
     "name": "stdout",
     "output_type": "stream",
     "text": [
      "[-2.101331  -1.8690253 -1.4293435 -2.3737745 -1.3041964 -2.8173506\n",
      " -1.3118038 -2.2720363 -2.4412117 -2.5035796 -0.7951804 -2.7367752\n",
      " -3.2678912 -2.8415368 -2.5082235 -2.8116226 -2.755733  -2.458829\n",
      " -2.5261188 -1.6782099]\n"
     ]
    }
   ],
   "source": [
    "print(aaa['reward'])"
   ]
  },
  {
   "cell_type": "code",
   "execution_count": 23,
   "metadata": {},
   "outputs": [],
   "source": [
    "aaa = np.load(\"fmif/log/reward_SVDD_LDDT_EA|run2_0325_0005.npz\")"
   ]
  },
  {
   "cell_type": "code",
   "execution_count": 24,
   "metadata": {},
   "outputs": [
    {
     "name": "stdout",
     "output_type": "stream",
     "text": [
      "[92.06679 89.97989 90.82396 90.24651 87.87982]\n"
     ]
    }
   ],
   "source": [
    "print(aaa['reward'])"
   ]
  }
 ],
 "metadata": {
  "kernelspec": {
   "display_name": "multiflow",
   "language": "python",
   "name": "python3"
  },
  "language_info": {
   "codemirror_mode": {
    "name": "ipython",
    "version": 3
   },
   "file_extension": ".py",
   "mimetype": "text/x-python",
   "name": "python",
   "nbconvert_exporter": "python",
   "pygments_lexer": "ipython3",
   "version": "3.10.12"
  }
 },
 "nbformat": 4,
 "nbformat_minor": 2
}
