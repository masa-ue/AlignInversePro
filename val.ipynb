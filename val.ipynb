{
 "cells": [
  {
   "cell_type": "code",
   "execution_count": 5,
   "metadata": {},
   "outputs": [
    {
     "name": "stdout",
     "output_type": "stream",
     "text": [
      "┌──────────────────────────────────────────────────────────────────────────────┐\n",
      "│                                 PyRosetta-4                                  │\n",
      "│              Created in JHU by Sergey Lyskov and PyRosetta Team              │\n",
      "│              (C) Copyright Rosetta Commons Member Institutions               │\n",
      "│                                                                              │\n",
      "│ NOTE: USE OF PyRosetta FOR COMMERCIAL PURPOSES REQUIRE PURCHASE OF A LICENSE │\n",
      "│         See LICENSE.PyRosetta.md or email license@uw.edu for details         │\n",
      "└──────────────────────────────────────────────────────────────────────────────┘\n",
      "PyRosetta-4 2024 [Rosetta PyRosetta4.Release.python310.linux 2024.39+release.59628fbc5bc09f1221e1642f1f8d157ce49b1410 2024-09-23T07:49:48] retrieved from: http://www.pyrosetta.org\n",
      "core.init: Checking for fconfig files in pwd and ./rosetta/flags\n",
      "core.init: Rosetta version: PyRosetta4.Release.python310.linux r387 2024.39+release.59628fb 59628fbc5bc09f1221e1642f1f8d157ce49b1410 http://www.pyrosetta.org 2024-09-23T07:49:48\n",
      "core.init: Rosetta extras: []\n",
      "core.init: command: PyRosetta -ex1 -ex2aro -database /home/ueharam1/miniconda3/envs/multiflow_ro/lib/python3.10/site-packages/pyrosetta/database\n",
      "basic.random.init_random_generator: 'RNG device' seed mode, using '/dev/urandom', seed=1432781923 seed_offset=0 real_seed=1432781923\n",
      "basic.random.init_random_generator: RandomGenerator:init: Normal mode, seed=1432781923 RG_type=mt19937\n"
     ]
    }
   ],
   "source": [
    "import numpy as np\n",
    "import matplotlib.pyplot as plt\n",
    "import os\n",
    "import seaborn as sns\n",
    "import pickle\n",
    "%matplotlib inline\n",
    "from protein_oracle.utils import set_seed\n",
    "from protein_oracle.data_utils import ProteinStructureDataset, ProteinDPODataset, featurize\n",
    "\n",
    "import pyrosetta; pyrosetta.init()\n",
    "\n",
    "import pyrosetta\n",
    "from pyrosetta.rosetta.core.pack.task import TaskFactory\n",
    "from pyrosetta.rosetta.core.pack.task.operation import RestrictToRepacking\n",
    "from pyrosetta.rosetta.protocols.minimization_packing import PackRotamersMover\n",
    "from pyrosetta.rosetta.core.select.residue_selector import ResidueIndexSelector\n",
    "from pyrosetta.rosetta.core.pack.task.operation import OperateOnResidueSubset\n",
    "from pyrosetta.rosetta.protocols.relax import FastRelax\n",
    "from pyrosetta.rosetta.core.pack.task import TaskFactory\n",
    "from pyrosetta.rosetta.core.pack.task.operation import RestrictToRepacking, IncludeCurrent\n",
    "# Set up FastRelax with the desired score function\n",
    "from pyrosetta import *\n"
   ]
  },
  {
   "cell_type": "code",
   "execution_count": 1,
   "metadata": {},
   "outputs": [
    {
     "ename": "NameError",
     "evalue": "name 'pickle' is not defined",
     "output_type": "error",
     "traceback": [
      "\u001b[0;31m---------------------------------------------------------------------------\u001b[0m",
      "\u001b[0;31mNameError\u001b[0m                                 Traceback (most recent call last)",
      "Cell \u001b[0;32mIn[1], line 2\u001b[0m\n\u001b[1;32m      1\u001b[0m dpo_dict_path \u001b[38;5;241m=\u001b[39m \u001b[38;5;124m'\u001b[39m\u001b[38;5;124m/home/ueharam1/projects4/seqft2/datasets/processed_data\u001b[39m\u001b[38;5;124m'\u001b[39m\n\u001b[0;32m----> 2\u001b[0m dpo_train_dict \u001b[38;5;241m=\u001b[39m \u001b[43mpickle\u001b[49m\u001b[38;5;241m.\u001b[39mload(\u001b[38;5;28mopen\u001b[39m(os\u001b[38;5;241m.\u001b[39mpath\u001b[38;5;241m.\u001b[39mjoin(dpo_dict_path, \u001b[38;5;124m'\u001b[39m\u001b[38;5;124mdpo_test_dict_wt.pkl\u001b[39m\u001b[38;5;124m'\u001b[39m), \u001b[38;5;124m'\u001b[39m\u001b[38;5;124mrb\u001b[39m\u001b[38;5;124m'\u001b[39m))\n",
      "\u001b[0;31mNameError\u001b[0m: name 'pickle' is not defined"
     ]
    }
   ],
   "source": [
    "dpo_dict_path = '/home/ueharam1/projects4/seqft2/datasets/processed_data'\n",
    "dpo_train_dict = pickle.load(open(os.path.join(dpo_dict_path, 'dpo_test_dict_wt.pkl'), 'rb'))\n"
   ]
  },
  {
   "cell_type": "code",
   "execution_count": 3,
   "metadata": {},
   "outputs": [
    {
     "ename": "NameError",
     "evalue": "name 'ProteinStructureDataset' is not defined",
     "output_type": "error",
     "traceback": [
      "\u001b[0;31m---------------------------------------------------------------------------\u001b[0m",
      "\u001b[0;31mNameError\u001b[0m                                 Traceback (most recent call last)",
      "Cell \u001b[0;32mIn[3], line 5\u001b[0m\n\u001b[1;32m      3\u001b[0m pdb_path \u001b[38;5;241m=\u001b[39m \u001b[38;5;124m'\u001b[39m\u001b[38;5;124m/home/ueharam1/projects4/seqft2/datasets/AlphaFold_model_PDBs\u001b[39m\u001b[38;5;124m'\u001b[39m\n\u001b[1;32m      4\u001b[0m max_len \u001b[38;5;241m=\u001b[39m \u001b[38;5;241m75\u001b[39m  \u001b[38;5;66;03m# Define the maximum length of proteins\u001b[39;00m\n\u001b[0;32m----> 5\u001b[0m dataset \u001b[38;5;241m=\u001b[39m \u001b[43mProteinStructureDataset\u001b[49m(pdb_path, max_len) \u001b[38;5;66;03m# max_len set to 75 (sequences range from 31 to 74)\u001b[39;00m\n\u001b[1;32m      6\u001b[0m loader \u001b[38;5;241m=\u001b[39m DataLoader(dataset, batch_size\u001b[38;5;241m=\u001b[39m\u001b[38;5;241m1000\u001b[39m, shuffle\u001b[38;5;241m=\u001b[39m\u001b[38;5;28;01mFalse\u001b[39;00m)\n\u001b[1;32m      8\u001b[0m \u001b[38;5;66;03m# make a dict of pdb filename: index\u001b[39;00m\n",
      "\u001b[0;31mNameError\u001b[0m: name 'ProteinStructureDataset' is not defined"
     ]
    }
   ],
   "source": [
    "from torch.utils.data import DataLoader\n",
    "\n",
    "pdb_path = '/home/ueharam1/projects4/seqft2/datasets/AlphaFold_model_PDBs'\n",
    "max_len = 75  # Define the maximum length of proteins\n",
    "dataset = ProteinStructureDataset(pdb_path, max_len) # max_len set to 75 (sequences range from 31 to 74)\n",
    "loader = DataLoader(dataset, batch_size=1000, shuffle=False)\n",
    "\n",
    "# make a dict of pdb filename: index\n",
    "for batch in loader:\n",
    "    pdb_structures = batch[0]\n",
    "    pdb_filenames = batch[1]\n",
    "    pdb_idx_dict = {pdb_filenames[i]: i for i in range(len(pdb_filenames))}\n",
    "    break\n",
    "\n",
    "dpo_dict_path = '/home/ueharam1/projects4/seqft2/datasets/processed_data'\n",
    "dpo_train_dict = pickle.load(open(os.path.join(dpo_dict_path, 'dpo_train_dict_wt.pkl'), 'rb'))\n",
    "dpo_train_dataset = ProteinDPODataset(dpo_train_dict, pdb_idx_dict, pdb_structures)"
   ]
  },
  {
   "cell_type": "code",
   "execution_count": 32,
   "metadata": {},
   "outputs": [
    {
     "name": "stdout",
     "output_type": "stream",
     "text": [
      "339\n",
      "14\n"
     ]
    }
   ],
   "source": [
    "import pickle\n",
    "import os\n",
    "dpo_dict_path = '/home/ueharam1/projects4/seqft2/datasets/processed_data'\n",
    "dpo_train_dict = pickle.load(open(os.path.join(dpo_dict_path, 'dpo_train_dict_wt.pkl'), 'rb'))\n",
    "dpo_test_dict = pickle.load(open(os.path.join(dpo_dict_path, 'dpo_test_dict_wt.pkl'), 'rb'))\n",
    "dpo_valid_dict = pickle.load(open(os.path.join(dpo_dict_path, 'dpo_valid_dict_wt.pkl'), 'rb'))\n",
    "print(len(dpo_train_dict))\n",
    "print(len(dpo_test_dict))\n",
    "\n"
   ]
  },
  {
   "cell_type": "code",
   "execution_count": 24,
   "metadata": {},
   "outputs": [
    {
     "name": "stdout",
     "output_type": "stream",
     "text": [
      "['DEVTIHLGDKTIRVDGLDKELLEILKELARRGADEEELRKEIERWER', 'EA:run2_0325_0005.pdb', 'DEVTIHLGDKTIRVDGLDKELLEILKELARRGADEEELRKEIERWER', 3.3321258839433834, '0.01719762915616707', 3.3321258839433834, '0.01719762915616707', 'EA|run2_0325_0005.pdb']\n"
     ]
    }
   ],
   "source": [
    "print(dpo_train_dict['EA|run2_0325_0005.pdb'])"
   ]
  },
  {
   "cell_type": "code",
   "execution_count": 35,
   "metadata": {},
   "outputs": [
    {
     "name": "stdout",
     "output_type": "stream",
     "text": [
      "{'4XX|run5_1034_0004.pdb', 'XX|run7_0974_0003.pdb', '4r6_560_TrROS_Hall.pdb', '2YSB.pdb', '4EHEE_rd4_0625.pdb', '42JT1.pdb', '2M2J.pdb', '4HEEH_KT_rd6_0746.pdb', '4GG|run6_0851_0003.pdb', '4HEEH_rd4_0349.pdb', 'GG|run6_0851_0003.pdb', '2JT1.pdb', '4XX|run7_0974_0003.pdb', 'HEEH_rd4_0349.pdb', 'EA|run5_0050_0004.pdb', '2MWA.pdb', 'HEEH_KT_rd6_0746.pdb', '42M2J.pdb', '42MWA.pdb', '42YSB.pdb', 'r6_560_TrROS_Hall.pdb', 'EHEE_rd4_0625.pdb', 'XX|run5_1034_0004.pdb', '4EA|run5_0050_0004.pdb'}\n",
      "24\n",
      "5\n"
     ]
    }
   ],
   "source": [
    "folder_path = \"/home/ueharam1/projects4/seqft2/multiflow/fmif/log\"\n",
    "file_names = os.listdir(folder_path)\n",
    "protein_name_list =[  file[12:-4] +\".pdb\" for file in file_names if 'tds4' in file ]\n",
    "print(set(protein_name_list))\n",
    "print(len(set(protein_name_list)))\n",
    "\n",
    "dpo_train_dict = {j: dpo_test_dict[j]  for j in dpo_test_dict if j in protein_name_list  }\n",
    "print(len(dpo_train_dict))"
   ]
  },
  {
   "cell_type": "code",
   "execution_count": 35,
   "metadata": {},
   "outputs": [],
   "source": [
    "new_dict = {\"EA|run5_0050_0004.pdb\":dpo_train_dict['EA|run5_0050_0004.pdb'] }"
   ]
  },
  {
   "cell_type": "code",
   "execution_count": null,
   "metadata": {},
   "outputs": [],
   "source": [
    "dpo_test_dict = pickle.load(open(os.path.join(dpo_dict_path, 'dpo_test_dict_wt.pkl'), 'rb'))"
   ]
  }
 ],
 "metadata": {
  "kernelspec": {
   "display_name": "multiflow_ro",
   "language": "python",
   "name": "python3"
  },
  "language_info": {
   "codemirror_mode": {
    "name": "ipython",
    "version": 3
   },
   "file_extension": ".py",
   "mimetype": "text/x-python",
   "name": "python",
   "nbconvert_exporter": "python",
   "pygments_lexer": "ipython3",
   "version": "3.10.12"
  }
 },
 "nbformat": 4,
 "nbformat_minor": 2
}
